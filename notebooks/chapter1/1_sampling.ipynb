{
 "cells": [
  {
   "cell_type": "code",
   "execution_count": 21,
   "metadata": {},
   "outputs": [
    {
     "data": {
      "text/plain": [
       "999"
      ]
     },
     "execution_count": 21,
     "metadata": {},
     "output_type": "execute_result"
    }
   ],
   "source": [
    "import pandas as pd\n",
    "dataframe = pd.read_csv(\"./bingx_btc_2024-12-05_2025-05-20.csv\")\n",
    "\n",
    "len(dataframe)"
   ]
  },
  {
   "cell_type": "code",
   "execution_count": 31,
   "metadata": {},
   "outputs": [],
   "source": [
    "# lets say we want to pick a \"sample\" from this huge dataset. Obviously, the best possible way, is to\n",
    "# use the date param, since all candles have different \"timestamp\".\n",
    "# However, take care comparing timestamps, because when you load from csv file, pandas will just load it as\n",
    "# literal string, so then it will fail to compare it with a timestamp object.\n",
    "# To not encounter such a problem, we will first convert the date params to pandas timestamp object.\n",
    "dataframe[\"date\"] = pd.to_datetime(dataframe[\"date\"])\n",
    "\n",
    "target = dataframe[dataframe[\"date\"] == pd.Timestamp(\"2025-03-22T20:00:00Z\")]"
   ]
  },
  {
   "cell_type": "code",
   "execution_count": 41,
   "metadata": {},
   "outputs": [
    {
     "data": {
      "text/plain": [
       "645    622.311753\n",
       "Name: cmf, dtype: float64"
      ]
     },
     "execution_count": 41,
     "metadata": {},
     "output_type": "execute_result"
    }
   ],
   "source": [
    "target[\"cmf\"]"
   ]
  },
  {
   "cell_type": "code",
   "execution_count": 46,
   "metadata": {},
   "outputs": [
    {
     "data": {
      "text/plain": [
       "'file_path/here/aaa.csv'"
      ]
     },
     "execution_count": 46,
     "metadata": {},
     "output_type": "execute_result"
    }
   ],
   "source": [
    "#setattr(dataframe, \"__original_loaded_file\", \"file_path/here/aaa.csv\")\n",
    "\n",
    "getattr(dataframe, \"__original_loaded_file\", None)"
   ]
  },
  {
   "cell_type": "code",
   "execution_count": 49,
   "metadata": {},
   "outputs": [],
   "source": [
    "dataframe2 = dataframe.copy()"
   ]
  },
  {
   "cell_type": "code",
   "execution_count": null,
   "metadata": {},
   "outputs": [
    {
     "data": {
      "text/plain": [
       "0      None\n",
       "1      None\n",
       "2      None\n",
       "3      None\n",
       "4      None\n",
       "       ... \n",
       "994    None\n",
       "995    None\n",
       "996    None\n",
       "997    None\n",
       "998    None\n",
       "Name: tema, Length: 999, dtype: object"
      ]
     },
     "execution_count": 50,
     "metadata": {},
     "output_type": "execute_result"
    }
   ],
   "source": [
    "dataframe2[\"tema\"] = \"NOTHING\"\n",
    "dataframe2[\"tema\"]"
   ]
  },
  {
   "cell_type": "code",
   "execution_count": 51,
   "metadata": {},
   "outputs": [
    {
     "data": {
      "text/plain": [
       "False"
      ]
     },
     "execution_count": 51,
     "metadata": {},
     "output_type": "execute_result"
    }
   ],
   "source": [
    "dataframe2[\"tema\"].any()"
   ]
  },
  {
   "cell_type": "code",
   "execution_count": 57,
   "metadata": {},
   "outputs": [
    {
     "data": {
      "text/plain": [
       "0"
      ]
     },
     "execution_count": 57,
     "metadata": {},
     "output_type": "execute_result"
    }
   ],
   "source": [
    "my_list = dataframe2[\"tema\"].where(dataframe2[\"tema\"] != \"NOTHING\").tolist()\n",
    "count = 0\n",
    "for current in my_list:\n",
    "    if current:\n",
    "        count += 1\n",
    "count"
   ]
  }
 ],
 "metadata": {
  "kernelspec": {
   "display_name": "Python 3",
   "language": "python",
   "name": "python3"
  },
  "language_info": {
   "codemirror_mode": {
    "name": "ipython",
    "version": 3
   },
   "file_extension": ".py",
   "mimetype": "text/x-python",
   "name": "python",
   "nbconvert_exporter": "python",
   "pygments_lexer": "ipython3",
   "version": "3.11.3"
  }
 },
 "nbformat": 4,
 "nbformat_minor": 2
}

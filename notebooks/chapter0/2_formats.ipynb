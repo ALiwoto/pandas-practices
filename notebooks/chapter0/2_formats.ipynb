{
 "cells": [
  {
   "cell_type": "code",
   "execution_count": 2,
   "metadata": {},
   "outputs": [],
   "source": [
    "import numpy as np\n",
    "\n",
    "import pandas as pd\n",
    "\n",
    "# previous lesson\n",
    "students_count = 10\n",
    "all_students_name = [\"Mr.\" + chr(ord('A') + i) for i in range(students_count) ]\n",
    "df2_2 = pd.DataFrame(\n",
    "    {\n",
    "        \"StudentsName\": all_students_name,\n",
    "        \"Score\": np.random.randint(1, 21, size=len(all_students_name)),\n",
    "        \"classNum\": np.array([3] * len(all_students_name))\n",
    "    }\n",
    ")\n",
    "\n"
   ]
  },
  {
   "cell_type": "code",
   "execution_count": null,
   "metadata": {},
   "outputs": [
    {
     "name": "stdout",
     "output_type": "stream",
     "text": [
      "StudentsName    Mr.A\n",
      "Score             14\n",
      "classNum           3\n",
      "Name: 0, dtype: object\n",
      "14\n",
      "Mr.A\n",
      "False\n",
      "==============================\n",
      "df_loaded:\n",
      "StudentsName    object\n",
      "Score            int64\n",
      "classNum         int64\n",
      "dtype: object\n",
      "----------\n",
      "df2_2:\n",
      "StudentsName    object\n",
      "Score            int32\n",
      "classNum         int32\n",
      "dtype: object\n",
      "==============================\n",
      "Using (==).all().all():\n",
      "True\n"
     ]
    }
   ],
   "source": [
    "print(df2_2.iloc[0]) # gets record in index 0\n",
    "print(df2_2.iloc[0, 1]) # gets records in i:0 and j:1 (second column of the first row)\n",
    "print(df2_2.iloc[0]['StudentsName']) # gets the first student name\n",
    "\n",
    "# Saves the dataframe into the target file\n",
    "df2_2.to_json('dataframe-json.txt', orient='records', lines=True)\n",
    "\n",
    "# Reads the dataframe from the target file\n",
    "df_loaded = pd.read_json('dataframe-json.txt', orient='records', lines=True)\n",
    "\n",
    "print(df_loaded.equals(df2_2)) # returns False\n",
    "\n",
    "print(\"=\" * 30)\n",
    "print(\"df_loaded:\")\n",
    "print(df_loaded.dtypes)\n",
    "\n",
    "print(\"-\" * 10)\n",
    "print(\"df2_2:\")\n",
    "print(df2_2.dtypes)\n",
    "\n",
    "print(\"=\" * 30)\n",
    "print(\"Using (==).all().all():\")\n",
    "print((df_loaded == df2_2).all().all()) # Returns True"
   ]
  },
  {
   "cell_type": "code",
   "execution_count": null,
   "metadata": {},
   "outputs": [
    {
     "name": "stdout",
     "output_type": "stream",
     "text": [
      "are equal:  True\n"
     ]
    }
   ],
   "source": [
    "df2_2.to_csv(path_or_buf=\"dataframe.csv\", index=False)\n",
    "\n",
    "df_loaded2 = pd.read_csv(filepath_or_buffer=\"dataframe.csv\")\n",
    "\n",
    "print(\"are equal:\", (df2_2 == df_loaded2).all().all())"
   ]
  }
 ],
 "metadata": {
  "kernelspec": {
   "display_name": "Python 3",
   "language": "python",
   "name": "python3"
  },
  "language_info": {
   "codemirror_mode": {
    "name": "ipython",
    "version": 3
   },
   "file_extension": ".py",
   "mimetype": "text/x-python",
   "name": "python",
   "nbconvert_exporter": "python",
   "pygments_lexer": "ipython3",
   "version": "3.11.3"
  }
 },
 "nbformat": 4,
 "nbformat_minor": 2
}
